{
 "cells": [
  {
   "cell_type": "code",
   "execution_count": 2,
   "id": "71236dfd-c896-4498-9dce-1a5466baec28",
   "metadata": {},
   "outputs": [
    {
     "data": {
      "text/html": [
       "<div>\n",
       "<style scoped>\n",
       "    .dataframe tbody tr th:only-of-type {\n",
       "        vertical-align: middle;\n",
       "    }\n",
       "\n",
       "    .dataframe tbody tr th {\n",
       "        vertical-align: top;\n",
       "    }\n",
       "\n",
       "    .dataframe thead th {\n",
       "        text-align: right;\n",
       "    }\n",
       "</style>\n",
       "<table border=\"1\" class=\"dataframe\">\n",
       "  <thead>\n",
       "    <tr style=\"text-align: right;\">\n",
       "      <th></th>\n",
       "      <th>Order_ID</th>\n",
       "      <th>Product_Category</th>\n",
       "      <th>Product_Price</th>\n",
       "      <th>Customer_Age</th>\n",
       "      <th>Rating</th>\n",
       "      <th>Review_Text</th>\n",
       "      <th>Order_Date</th>\n",
       "    </tr>\n",
       "  </thead>\n",
       "  <tbody>\n",
       "    <tr>\n",
       "      <th>0</th>\n",
       "      <td>1</td>\n",
       "      <td>Clothing</td>\n",
       "      <td>3262.0</td>\n",
       "      <td>58.0</td>\n",
       "      <td>3.0</td>\n",
       "      <td>Would not recommend</td>\n",
       "      <td>2023-01-01</td>\n",
       "    </tr>\n",
       "    <tr>\n",
       "      <th>1</th>\n",
       "      <td>2</td>\n",
       "      <td>Clothing</td>\n",
       "      <td>214.0</td>\n",
       "      <td>20.0</td>\n",
       "      <td>3.0</td>\n",
       "      <td>Excellent product!</td>\n",
       "      <td>2023-01-02</td>\n",
       "    </tr>\n",
       "    <tr>\n",
       "      <th>2</th>\n",
       "      <td>3</td>\n",
       "      <td>Home Decor</td>\n",
       "      <td>3429.0</td>\n",
       "      <td>51.0</td>\n",
       "      <td>2.0</td>\n",
       "      <td>Value for money</td>\n",
       "      <td>2023-01-03</td>\n",
       "    </tr>\n",
       "    <tr>\n",
       "      <th>3</th>\n",
       "      <td>4</td>\n",
       "      <td>Books</td>\n",
       "      <td>4568.0</td>\n",
       "      <td>35.0</td>\n",
       "      <td>3.0</td>\n",
       "      <td>Value for money</td>\n",
       "      <td>2023-01-04</td>\n",
       "    </tr>\n",
       "    <tr>\n",
       "      <th>4</th>\n",
       "      <td>5</td>\n",
       "      <td>Electronics</td>\n",
       "      <td>2237.0</td>\n",
       "      <td>32.0</td>\n",
       "      <td>4.0</td>\n",
       "      <td>Not as expected</td>\n",
       "      <td>2023-01-05</td>\n",
       "    </tr>\n",
       "    <tr>\n",
       "      <th>...</th>\n",
       "      <td>...</td>\n",
       "      <td>...</td>\n",
       "      <td>...</td>\n",
       "      <td>...</td>\n",
       "      <td>...</td>\n",
       "      <td>...</td>\n",
       "      <td>...</td>\n",
       "    </tr>\n",
       "    <tr>\n",
       "      <th>500</th>\n",
       "      <td>46</td>\n",
       "      <td>Home Decor</td>\n",
       "      <td>2965.0</td>\n",
       "      <td>41.0</td>\n",
       "      <td>4.0</td>\n",
       "      <td>Not as expected</td>\n",
       "      <td>2023-02-15</td>\n",
       "    </tr>\n",
       "    <tr>\n",
       "      <th>501</th>\n",
       "      <td>109</td>\n",
       "      <td>Home Decor</td>\n",
       "      <td>384.0</td>\n",
       "      <td>56.0</td>\n",
       "      <td>1.0</td>\n",
       "      <td>Excellent product!</td>\n",
       "      <td>2023-04-19</td>\n",
       "    </tr>\n",
       "    <tr>\n",
       "      <th>502</th>\n",
       "      <td>52</td>\n",
       "      <td>Electronics</td>\n",
       "      <td>2434.0</td>\n",
       "      <td>26.0</td>\n",
       "      <td>3.0</td>\n",
       "      <td>Value for money</td>\n",
       "      <td>2023-02-21</td>\n",
       "    </tr>\n",
       "    <tr>\n",
       "      <th>503</th>\n",
       "      <td>281</td>\n",
       "      <td>Home Decor</td>\n",
       "      <td>3093.0</td>\n",
       "      <td>24.0</td>\n",
       "      <td>3.0</td>\n",
       "      <td>NaN</td>\n",
       "      <td>2023-10-08</td>\n",
       "    </tr>\n",
       "    <tr>\n",
       "      <th>504</th>\n",
       "      <td>461</td>\n",
       "      <td>Electronics</td>\n",
       "      <td>1970.0</td>\n",
       "      <td>55.0</td>\n",
       "      <td>1.0</td>\n",
       "      <td>Fast delivery</td>\n",
       "      <td>2024-04-05</td>\n",
       "    </tr>\n",
       "  </tbody>\n",
       "</table>\n",
       "<p>505 rows × 7 columns</p>\n",
       "</div>"
      ],
      "text/plain": [
       "     Order_ID Product_Category  Product_Price  Customer_Age  Rating  \\\n",
       "0           1         Clothing         3262.0          58.0     3.0   \n",
       "1           2         Clothing          214.0          20.0     3.0   \n",
       "2           3       Home Decor         3429.0          51.0     2.0   \n",
       "3           4            Books         4568.0          35.0     3.0   \n",
       "4           5      Electronics         2237.0          32.0     4.0   \n",
       "..        ...              ...            ...           ...     ...   \n",
       "500        46       Home Decor         2965.0          41.0     4.0   \n",
       "501       109       Home Decor          384.0          56.0     1.0   \n",
       "502        52      Electronics         2434.0          26.0     3.0   \n",
       "503       281       Home Decor         3093.0          24.0     3.0   \n",
       "504       461      Electronics         1970.0          55.0     1.0   \n",
       "\n",
       "             Review_Text  Order_Date  \n",
       "0    Would not recommend  2023-01-01  \n",
       "1     Excellent product!  2023-01-02  \n",
       "2        Value for money  2023-01-03  \n",
       "3        Value for money  2023-01-04  \n",
       "4        Not as expected  2023-01-05  \n",
       "..                   ...         ...  \n",
       "500      Not as expected  2023-02-15  \n",
       "501   Excellent product!  2023-04-19  \n",
       "502      Value for money  2023-02-21  \n",
       "503                  NaN  2023-10-08  \n",
       "504        Fast delivery  2024-04-05  \n",
       "\n",
       "[505 rows x 7 columns]"
      ]
     },
     "execution_count": 2,
     "metadata": {},
     "output_type": "execute_result"
    }
   ],
   "source": [
    "import pandas as pd\n",
    "import numpy as np\n",
    "from textblob import TextBlob\n",
    "import seaborn as sns\n",
    "import matplotlib.pyplot as plt\n",
    "\n",
    "# Load the dataset\n",
    "df = pd.read_csv(\"Day 20_E-Commerce_Data.csv\")  # Replace with actual filename\n",
    "df"
   ]
  },
  {
   "cell_type": "code",
   "execution_count": 4,
   "id": "c4267472-d904-446d-b514-460709081165",
   "metadata": {},
   "outputs": [
    {
     "name": "stdout",
     "output_type": "stream",
     "text": [
      "Order_ID             0\n",
      "Product_Category    24\n",
      "Product_Price       20\n",
      "Customer_Age        15\n",
      "Rating              25\n",
      "Review_Text         21\n",
      "Order_Date          10\n",
      "dtype: int64\n"
     ]
    }
   ],
   "source": [
    "print(df.isna().sum())  # Check missing values in each column\n"
   ]
  },
  {
   "cell_type": "code",
   "execution_count": 6,
   "id": "2ea81c42-c142-42eb-af2f-759591bf40a6",
   "metadata": {},
   "outputs": [],
   "source": [
    "df['Rating'] = df['Rating'].fillna(df['Rating'].median())  # Median for ordinal data\n",
    "df['Customer_Age'] = df['Customer_Age'].fillna(df['Customer_Age'].mean())  # Mean for age\n"
   ]
  },
  {
   "cell_type": "code",
   "execution_count": 8,
   "id": "97f4938b-8bb6-42f4-b23d-50bd440aba15",
   "metadata": {},
   "outputs": [
    {
     "data": {
      "text/plain": [
       "0      58.0\n",
       "1      20.0\n",
       "2      51.0\n",
       "3      35.0\n",
       "4      32.0\n",
       "       ... \n",
       "500    41.0\n",
       "501    56.0\n",
       "502    26.0\n",
       "503    24.0\n",
       "504    55.0\n",
       "Name: Customer_Age, Length: 505, dtype: float64"
      ]
     },
     "execution_count": 8,
     "metadata": {},
     "output_type": "execute_result"
    }
   ],
   "source": [
    "df['Customer_Age']"
   ]
  },
  {
   "cell_type": "code",
   "execution_count": 10,
   "id": "e10adc9b-786f-4542-bfc0-df47fc3d2d3f",
   "metadata": {},
   "outputs": [
    {
     "data": {
      "text/plain": [
       "0      3.0\n",
       "1      3.0\n",
       "2      2.0\n",
       "3      3.0\n",
       "4      4.0\n",
       "      ... \n",
       "500    4.0\n",
       "501    1.0\n",
       "502    3.0\n",
       "503    3.0\n",
       "504    1.0\n",
       "Name: Rating, Length: 505, dtype: float64"
      ]
     },
     "execution_count": 10,
     "metadata": {},
     "output_type": "execute_result"
    }
   ],
   "source": [
    "df['Rating']"
   ]
  },
  {
   "cell_type": "code",
   "execution_count": 12,
   "id": "a16d36d7-95b2-4554-bb48-4870ee6aa7e6",
   "metadata": {},
   "outputs": [],
   "source": [
    "def correct_spelling(text):\n",
    "    if pd.isna(text) or not isinstance(text, str):\n",
    "        return np.nan  # Keep NaN if text is missing\n",
    "    return str(TextBlob(text).correct())\n",
    "\n",
    "df['Review_Text'] = df['Review_Text'].apply(correct_spelling)  # Apply spelling correction\n",
    "df['Review_Text'] = df['Review_Text'].fillna(\"No review provided\")  # Fill remaining NaNs\n"
   ]
  },
  {
   "cell_type": "code",
   "execution_count": 14,
   "id": "1ff519e1-6325-4331-8248-9a1db8d02951",
   "metadata": {},
   "outputs": [
    {
     "name": "stdout",
     "output_type": "stream",
     "text": [
      "Number of duplicate reviews: 505\n"
     ]
    }
   ],
   "source": [
    "# Identify duplicates\n",
    "duplicates = df[df.duplicated(subset=['Review_Text'], keep=False)]\n",
    "print(f\"Number of duplicate reviews: {len(duplicates)}\")\n",
    "\n",
    "# Drop exact duplicates\n",
    "df = df.drop_duplicates(subset=['Review_Text'], keep='first')\n"
   ]
  },
  {
   "cell_type": "code",
   "execution_count": 18,
   "id": "2d587e81-7950-4e52-a964-9cf7789a190b",
   "metadata": {},
   "outputs": [],
   "source": [
    "df.loc[:, 'Rating'] = df['Rating'].clip(1, 5)  # Ensures modification on the actual DataFrame\n"
   ]
  },
  {
   "cell_type": "code",
   "execution_count": 20,
   "id": "e1569ee0-82bb-454c-8378-27df0f8f26f1",
   "metadata": {},
   "outputs": [
    {
     "data": {
      "text/html": [
       "<div>\n",
       "<style scoped>\n",
       "    .dataframe tbody tr th:only-of-type {\n",
       "        vertical-align: middle;\n",
       "    }\n",
       "\n",
       "    .dataframe tbody tr th {\n",
       "        vertical-align: top;\n",
       "    }\n",
       "\n",
       "    .dataframe thead th {\n",
       "        text-align: right;\n",
       "    }\n",
       "</style>\n",
       "<table border=\"1\" class=\"dataframe\">\n",
       "  <thead>\n",
       "    <tr style=\"text-align: right;\">\n",
       "      <th></th>\n",
       "      <th>Order_ID</th>\n",
       "      <th>Product_Category</th>\n",
       "      <th>Product_Price</th>\n",
       "      <th>Customer_Age</th>\n",
       "      <th>Rating</th>\n",
       "      <th>Review_Text</th>\n",
       "      <th>Order_Date</th>\n",
       "    </tr>\n",
       "  </thead>\n",
       "  <tbody>\n",
       "    <tr>\n",
       "      <th>0</th>\n",
       "      <td>1</td>\n",
       "      <td>Clothing</td>\n",
       "      <td>3262.0</td>\n",
       "      <td>58.0</td>\n",
       "      <td>3.0</td>\n",
       "      <td>Would not recommend</td>\n",
       "      <td>2023-01-01</td>\n",
       "    </tr>\n",
       "    <tr>\n",
       "      <th>1</th>\n",
       "      <td>2</td>\n",
       "      <td>Clothing</td>\n",
       "      <td>214.0</td>\n",
       "      <td>20.0</td>\n",
       "      <td>3.0</td>\n",
       "      <td>Excellent product!</td>\n",
       "      <td>2023-01-02</td>\n",
       "    </tr>\n",
       "    <tr>\n",
       "      <th>2</th>\n",
       "      <td>3</td>\n",
       "      <td>Home Decor</td>\n",
       "      <td>3429.0</td>\n",
       "      <td>51.0</td>\n",
       "      <td>2.0</td>\n",
       "      <td>Value for money</td>\n",
       "      <td>2023-01-03</td>\n",
       "    </tr>\n",
       "    <tr>\n",
       "      <th>4</th>\n",
       "      <td>5</td>\n",
       "      <td>Electronics</td>\n",
       "      <td>2237.0</td>\n",
       "      <td>32.0</td>\n",
       "      <td>4.0</td>\n",
       "      <td>Not as expected</td>\n",
       "      <td>2023-01-05</td>\n",
       "    </tr>\n",
       "    <tr>\n",
       "      <th>5</th>\n",
       "      <td>6</td>\n",
       "      <td>Beauty</td>\n",
       "      <td>4952.0</td>\n",
       "      <td>42.0</td>\n",
       "      <td>1.0</td>\n",
       "      <td>Last delivery</td>\n",
       "      <td>2023-01-06</td>\n",
       "    </tr>\n",
       "    <tr>\n",
       "      <th>55</th>\n",
       "      <td>56</td>\n",
       "      <td>Electronics</td>\n",
       "      <td>330.0</td>\n",
       "      <td>19.0</td>\n",
       "      <td>3.0</td>\n",
       "      <td>No review provided</td>\n",
       "      <td>2023-02-25</td>\n",
       "    </tr>\n",
       "  </tbody>\n",
       "</table>\n",
       "</div>"
      ],
      "text/plain": [
       "    Order_ID Product_Category  Product_Price  Customer_Age  Rating  \\\n",
       "0          1         Clothing         3262.0          58.0     3.0   \n",
       "1          2         Clothing          214.0          20.0     3.0   \n",
       "2          3       Home Decor         3429.0          51.0     2.0   \n",
       "4          5      Electronics         2237.0          32.0     4.0   \n",
       "5          6           Beauty         4952.0          42.0     1.0   \n",
       "55        56      Electronics          330.0          19.0     3.0   \n",
       "\n",
       "            Review_Text  Order_Date  \n",
       "0   Would not recommend  2023-01-01  \n",
       "1    Excellent product!  2023-01-02  \n",
       "2       Value for money  2023-01-03  \n",
       "4       Not as expected  2023-01-05  \n",
       "5         Last delivery  2023-01-06  \n",
       "55   No review provided  2023-02-25  "
      ]
     },
     "execution_count": 20,
     "metadata": {},
     "output_type": "execute_result"
    }
   ],
   "source": [
    "df"
   ]
  },
  {
   "cell_type": "code",
   "execution_count": 24,
   "id": "4562661f-27fd-4e46-ac44-d694ec69a073",
   "metadata": {},
   "outputs": [],
   "source": [
    "df.loc[:, 'Product_Category'] = df['Product_Category'].apply(lambda x: str(TextBlob(str(x)).correct()))\n",
    "df.loc[:, 'Product_Category'] = df['Product_Category'].str.strip().str.title()\n"
   ]
  },
  {
   "cell_type": "code",
   "execution_count": 26,
   "id": "5c23f520-d298-4300-9092-a0d4bdd90bf9",
   "metadata": {},
   "outputs": [
    {
     "data": {
      "text/plain": [
       "0        Clothing\n",
       "1        Clothing\n",
       "2     Some Record\n",
       "4     Electronics\n",
       "5          Beauty\n",
       "55    Electronics\n",
       "Name: Product_Category, dtype: object"
      ]
     },
     "execution_count": 26,
     "metadata": {},
     "output_type": "execute_result"
    }
   ],
   "source": [
    "df.loc[:, 'Product_Category']"
   ]
  },
  {
   "cell_type": "code",
   "execution_count": 28,
   "id": "34d41993-d099-40ad-b060-1632b7dd97d5",
   "metadata": {},
   "outputs": [
    {
     "data": {
      "image/png": "[encoded data removed]",
      "text/plain": [
       "<Figure size 1000x500 with 1 Axes>"
      ]
     },
     "metadata": {},
     "output_type": "display_data"
    }
   ],
   "source": [
    "plt.figure(figsize=(10, 5))\n",
    "sns.boxplot(x=df['Product_Price'])\n",
    "plt.title(\"Boxplot of Product Prices\")\n",
    "plt.show()\n"
   ]
  },
  {
   "cell_type": "code",
   "execution_count": 30,
   "id": "cb45b202-1f6e-4e5e-ba5c-caa6092a7815",
   "metadata": {},
   "outputs": [
    {
     "data": {
      "image/png": "[encoded data removed]",
      "text/plain": [
       "<Figure size 500x500 with 1 Axes>"
      ]
     },
     "metadata": {},
     "output_type": "display_data"
    }
   ],
   "source": [
    "plt.figure(figsize=(5, 5))\n",
    "sns.boxplot(x=df['Rating'])\n",
    "plt.title(\"Boxplot of Ratings\")\n",
    "plt.show()\n"
   ]
  },
  {
   "cell_type": "code",
   "execution_count": 32,
   "id": "ddd6e422-6895-4a0a-8ffb-08456ee85813",
   "metadata": {},
   "outputs": [],
   "source": [
    "Q1 = df['Product_Price'].quantile(0.25)\n",
    "Q3 = df['Product_Price'].quantile(0.75)\n",
    "IQR = Q3 - Q1\n",
    "\n",
    "# Define lower and upper bounds\n",
    "lower_bound = Q1 - 1.5 * IQR\n",
    "upper_bound = Q3 + 1.5 * IQR\n",
    "\n",
    "# Filter out extreme outliers\n",
    "df = df[(df['Product_Price'] >= lower_bound) & (df['Product_Price'] <= upper_bound)]\n"
   ]
  },
  {
   "cell_type": "code",
   "execution_count": 34,
   "id": "d96109d4-ab2f-470e-bbe5-3399c9d2bc2b",
   "metadata": {},
   "outputs": [],
   "source": [
    "df = pd.get_dummies(df, columns=['Product_Category'], drop_first=True)  # One-hot encoding\n"
   ]
  },
  {
   "cell_type": "code",
   "execution_count": 36,
   "id": "3873b880-e96e-4384-9c07-5c48af1d301f",
   "metadata": {},
   "outputs": [
    {
     "data": {
      "text/html": [
       "<div>\n",
       "<style scoped>\n",
       "    .dataframe tbody tr th:only-of-type {\n",
       "        vertical-align: middle;\n",
       "    }\n",
       "\n",
       "    .dataframe tbody tr th {\n",
       "        vertical-align: top;\n",
       "    }\n",
       "\n",
       "    .dataframe thead th {\n",
       "        text-align: right;\n",
       "    }\n",
       "</style>\n",
       "<table border=\"1\" class=\"dataframe\">\n",
       "  <thead>\n",
       "    <tr style=\"text-align: right;\">\n",
       "      <th></th>\n",
       "      <th>Order_ID</th>\n",
       "      <th>Product_Price</th>\n",
       "      <th>Customer_Age</th>\n",
       "      <th>Rating</th>\n",
       "      <th>Review_Text</th>\n",
       "      <th>Order_Date</th>\n",
       "      <th>Product_Category_Clothing</th>\n",
       "      <th>Product_Category_Electronics</th>\n",
       "      <th>Product_Category_Some Record</th>\n",
       "    </tr>\n",
       "  </thead>\n",
       "  <tbody>\n",
       "    <tr>\n",
       "      <th>0</th>\n",
       "      <td>1</td>\n",
       "      <td>3262.0</td>\n",
       "      <td>58.0</td>\n",
       "      <td>3.0</td>\n",
       "      <td>Would not recommend</td>\n",
       "      <td>2023-01-01</td>\n",
       "      <td>True</td>\n",
       "      <td>False</td>\n",
       "      <td>False</td>\n",
       "    </tr>\n",
       "    <tr>\n",
       "      <th>1</th>\n",
       "      <td>2</td>\n",
       "      <td>214.0</td>\n",
       "      <td>20.0</td>\n",
       "      <td>3.0</td>\n",
       "      <td>Excellent product!</td>\n",
       "      <td>2023-01-02</td>\n",
       "      <td>True</td>\n",
       "      <td>False</td>\n",
       "      <td>False</td>\n",
       "    </tr>\n",
       "    <tr>\n",
       "      <th>2</th>\n",
       "      <td>3</td>\n",
       "      <td>3429.0</td>\n",
       "      <td>51.0</td>\n",
       "      <td>2.0</td>\n",
       "      <td>Value for money</td>\n",
       "      <td>2023-01-03</td>\n",
       "      <td>False</td>\n",
       "      <td>False</td>\n",
       "      <td>True</td>\n",
       "    </tr>\n",
       "    <tr>\n",
       "      <th>4</th>\n",
       "      <td>5</td>\n",
       "      <td>2237.0</td>\n",
       "      <td>32.0</td>\n",
       "      <td>4.0</td>\n",
       "      <td>Not as expected</td>\n",
       "      <td>2023-01-05</td>\n",
       "      <td>False</td>\n",
       "      <td>True</td>\n",
       "      <td>False</td>\n",
       "    </tr>\n",
       "    <tr>\n",
       "      <th>5</th>\n",
       "      <td>6</td>\n",
       "      <td>4952.0</td>\n",
       "      <td>42.0</td>\n",
       "      <td>1.0</td>\n",
       "      <td>Last delivery</td>\n",
       "      <td>2023-01-06</td>\n",
       "      <td>False</td>\n",
       "      <td>False</td>\n",
       "      <td>False</td>\n",
       "    </tr>\n",
       "    <tr>\n",
       "      <th>55</th>\n",
       "      <td>56</td>\n",
       "      <td>330.0</td>\n",
       "      <td>19.0</td>\n",
       "      <td>3.0</td>\n",
       "      <td>No review provided</td>\n",
       "      <td>2023-02-25</td>\n",
       "      <td>False</td>\n",
       "      <td>True</td>\n",
       "      <td>False</td>\n",
       "    </tr>\n",
       "  </tbody>\n",
       "</table>\n",
       "</div>"
      ],
      "text/plain": [
       "    Order_ID  Product_Price  Customer_Age  Rating          Review_Text  \\\n",
       "0          1         3262.0          58.0     3.0  Would not recommend   \n",
       "1          2          214.0          20.0     3.0   Excellent product!   \n",
       "2          3         3429.0          51.0     2.0      Value for money   \n",
       "4          5         2237.0          32.0     4.0      Not as expected   \n",
       "5          6         4952.0          42.0     1.0        Last delivery   \n",
       "55        56          330.0          19.0     3.0   No review provided   \n",
       "\n",
       "    Order_Date  Product_Category_Clothing  Product_Category_Electronics  \\\n",
       "0   2023-01-01                       True                         False   \n",
       "1   2023-01-02                       True                         False   \n",
       "2   2023-01-03                      False                         False   \n",
       "4   2023-01-05                      False                          True   \n",
       "5   2023-01-06                      False                         False   \n",
       "55  2023-02-25                      False                          True   \n",
       "\n",
       "    Product_Category_Some Record  \n",
       "0                          False  \n",
       "1                          False  \n",
       "2                           True  \n",
       "4                          False  \n",
       "5                          False  \n",
       "55                         False  "
      ]
     },
     "execution_count": 36,
     "metadata": {},
     "output_type": "execute_result"
    }
   ],
   "source": [
    "df"
   ]
  },
  {
   "cell_type": "code",
   "execution_count": 38,
   "id": "22f36f14-7039-44be-92c9-0c82b2ac0056",
   "metadata": {},
   "outputs": [
    {
     "name": "stdout",
     "output_type": "stream",
     "text": [
      "Cleaned dataset saved successfully!\n"
     ]
    }
   ],
   "source": [
    "df.to_csv(\"cleaned_ecommerce_reviews.csv\", index=False)\n",
    "print(\"Cleaned dataset saved successfully!\")\n"
   ]
  },
  {
   "cell_type": "code",
   "execution_count": null,
   "id": "4425b5de-b021-4618-add4-c797fd6e7ccd",
   "metadata": {},
   "outputs": [],
   "source": []
  }
 ],
 "metadata": {
  "kernelspec": {
   "display_name": "Python [conda env:base] *",
   "language": "python",
   "name": "conda-base-py"
  },
  "language_info": {
   "codemirror_mode": {
    "name": "ipython",
    "version": 3
   },
   "file_extension": ".py",
   "mimetype": "text/x-python",
   "name": "python",
   "nbconvert_exporter": "python",
   "pygments_lexer": "ipython3",
   "version": "3.12.7"
  }
 },
 "nbformat": 4,
 "nbformat_minor": 5
}
